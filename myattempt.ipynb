{
 "cells": [
  {
   "cell_type": "code",
   "execution_count": 1,
   "metadata": {},
   "outputs": [],
   "source": [
    "import pandas as pd"
   ]
  },
  {
   "cell_type": "code",
   "execution_count": 52,
   "metadata": {},
   "outputs": [],
   "source": [
    "\n",
    "# Read the JSON file into a DataFrame\n",
    "df = pd.read_json('AMAZON_FASHION_5.json', lines=True)\n"
   ]
  },
  {
   "cell_type": "code",
   "execution_count": 53,
   "metadata": {},
   "outputs": [
    {
     "data": {
      "text/html": [
       "<div>\n",
       "<style scoped>\n",
       "    .dataframe tbody tr th:only-of-type {\n",
       "        vertical-align: middle;\n",
       "    }\n",
       "\n",
       "    .dataframe tbody tr th {\n",
       "        vertical-align: top;\n",
       "    }\n",
       "\n",
       "    .dataframe thead th {\n",
       "        text-align: right;\n",
       "    }\n",
       "</style>\n",
       "<table border=\"1\" class=\"dataframe\">\n",
       "  <thead>\n",
       "    <tr style=\"text-align: right;\">\n",
       "      <th></th>\n",
       "      <th>overall</th>\n",
       "      <th>verified</th>\n",
       "      <th>reviewTime</th>\n",
       "      <th>reviewerID</th>\n",
       "      <th>asin</th>\n",
       "      <th>style</th>\n",
       "      <th>reviewerName</th>\n",
       "      <th>reviewText</th>\n",
       "      <th>summary</th>\n",
       "      <th>unixReviewTime</th>\n",
       "      <th>vote</th>\n",
       "      <th>image</th>\n",
       "    </tr>\n",
       "  </thead>\n",
       "  <tbody>\n",
       "    <tr>\n",
       "      <th>0</th>\n",
       "      <td>5</td>\n",
       "      <td>True</td>\n",
       "      <td>09 4, 2015</td>\n",
       "      <td>ALJ66O1Y6SLHA</td>\n",
       "      <td>B000K2PJ4K</td>\n",
       "      <td>{'Size:': ' Big Boys', 'Color:': ' Blue/Orange'}</td>\n",
       "      <td>Tonya B.</td>\n",
       "      <td>Great product and price!</td>\n",
       "      <td>Five Stars</td>\n",
       "      <td>1441324800</td>\n",
       "      <td>NaN</td>\n",
       "      <td>NaN</td>\n",
       "    </tr>\n",
       "    <tr>\n",
       "      <th>1</th>\n",
       "      <td>5</td>\n",
       "      <td>True</td>\n",
       "      <td>09 4, 2015</td>\n",
       "      <td>ALJ66O1Y6SLHA</td>\n",
       "      <td>B000K2PJ4K</td>\n",
       "      <td>{'Size:': ' Big Boys', 'Color:': ' Black (3746...</td>\n",
       "      <td>Tonya B.</td>\n",
       "      <td>Great product and price!</td>\n",
       "      <td>Five Stars</td>\n",
       "      <td>1441324800</td>\n",
       "      <td>NaN</td>\n",
       "      <td>NaN</td>\n",
       "    </tr>\n",
       "    <tr>\n",
       "      <th>2</th>\n",
       "      <td>5</td>\n",
       "      <td>True</td>\n",
       "      <td>09 4, 2015</td>\n",
       "      <td>ALJ66O1Y6SLHA</td>\n",
       "      <td>B000K2PJ4K</td>\n",
       "      <td>{'Size:': ' Big Boys', 'Color:': ' Blue/Gray L...</td>\n",
       "      <td>Tonya B.</td>\n",
       "      <td>Great product and price!</td>\n",
       "      <td>Five Stars</td>\n",
       "      <td>1441324800</td>\n",
       "      <td>NaN</td>\n",
       "      <td>NaN</td>\n",
       "    </tr>\n",
       "    <tr>\n",
       "      <th>3</th>\n",
       "      <td>5</td>\n",
       "      <td>True</td>\n",
       "      <td>09 4, 2015</td>\n",
       "      <td>ALJ66O1Y6SLHA</td>\n",
       "      <td>B000K2PJ4K</td>\n",
       "      <td>{'Size:': ' Big Boys', 'Color:': ' Blue (37867...</td>\n",
       "      <td>Tonya B.</td>\n",
       "      <td>Great product and price!</td>\n",
       "      <td>Five Stars</td>\n",
       "      <td>1441324800</td>\n",
       "      <td>NaN</td>\n",
       "      <td>NaN</td>\n",
       "    </tr>\n",
       "    <tr>\n",
       "      <th>4</th>\n",
       "      <td>5</td>\n",
       "      <td>True</td>\n",
       "      <td>09 4, 2015</td>\n",
       "      <td>ALJ66O1Y6SLHA</td>\n",
       "      <td>B000K2PJ4K</td>\n",
       "      <td>{'Size:': ' Big Boys', 'Color:': ' Blue/Pink'}</td>\n",
       "      <td>Tonya B.</td>\n",
       "      <td>Great product and price!</td>\n",
       "      <td>Five Stars</td>\n",
       "      <td>1441324800</td>\n",
       "      <td>NaN</td>\n",
       "      <td>NaN</td>\n",
       "    </tr>\n",
       "  </tbody>\n",
       "</table>\n",
       "</div>"
      ],
      "text/plain": [
       "   overall  verified  reviewTime     reviewerID        asin  \\\n",
       "0        5      True  09 4, 2015  ALJ66O1Y6SLHA  B000K2PJ4K   \n",
       "1        5      True  09 4, 2015  ALJ66O1Y6SLHA  B000K2PJ4K   \n",
       "2        5      True  09 4, 2015  ALJ66O1Y6SLHA  B000K2PJ4K   \n",
       "3        5      True  09 4, 2015  ALJ66O1Y6SLHA  B000K2PJ4K   \n",
       "4        5      True  09 4, 2015  ALJ66O1Y6SLHA  B000K2PJ4K   \n",
       "\n",
       "                                               style reviewerName  \\\n",
       "0   {'Size:': ' Big Boys', 'Color:': ' Blue/Orange'}     Tonya B.   \n",
       "1  {'Size:': ' Big Boys', 'Color:': ' Black (3746...     Tonya B.   \n",
       "2  {'Size:': ' Big Boys', 'Color:': ' Blue/Gray L...     Tonya B.   \n",
       "3  {'Size:': ' Big Boys', 'Color:': ' Blue (37867...     Tonya B.   \n",
       "4     {'Size:': ' Big Boys', 'Color:': ' Blue/Pink'}     Tonya B.   \n",
       "\n",
       "                 reviewText     summary  unixReviewTime  vote image  \n",
       "0  Great product and price!  Five Stars      1441324800   NaN   NaN  \n",
       "1  Great product and price!  Five Stars      1441324800   NaN   NaN  \n",
       "2  Great product and price!  Five Stars      1441324800   NaN   NaN  \n",
       "3  Great product and price!  Five Stars      1441324800   NaN   NaN  \n",
       "4  Great product and price!  Five Stars      1441324800   NaN   NaN  "
      ]
     },
     "execution_count": 53,
     "metadata": {},
     "output_type": "execute_result"
    }
   ],
   "source": [
    "df.head()"
   ]
  },
  {
   "cell_type": "code",
   "execution_count": 54,
   "metadata": {},
   "outputs": [
    {
     "name": "stderr",
     "output_type": "stream",
     "text": [
      "[nltk_data] Downloading package punkt to\n",
      "[nltk_data]     C:\\Users\\HP\\AppData\\Roaming\\nltk_data...\n",
      "[nltk_data]   Package punkt is already up-to-date!\n",
      "[nltk_data] Downloading package stopwords to\n",
      "[nltk_data]     C:\\Users\\HP\\AppData\\Roaming\\nltk_data...\n",
      "[nltk_data]   Package stopwords is already up-to-date!\n",
      "[nltk_data] Downloading package wordnet to\n",
      "[nltk_data]     C:\\Users\\HP\\AppData\\Roaming\\nltk_data...\n",
      "[nltk_data]   Package wordnet is already up-to-date!\n"
     ]
    }
   ],
   "source": [
    "import re\n",
    "import nltk\n",
    "from nltk.corpus import stopwords\n",
    "from nltk.tokenize import word_tokenize\n",
    "from nltk.stem import WordNetLemmatizer\n",
    "\n",
    "# Download necessary resources\n",
    "nltk.download('punkt')\n",
    "nltk.download('stopwords')\n",
    "nltk.download('wordnet')\n",
    "\n",
    "# Function for text preprocessing\n",
    "def preprocess_text(text):\n",
    "\n",
    "    if pd.isnull(text):  # Check for NaN values\n",
    "        return ''\n",
    "    \n",
    "    # Remove non-alphanumeric characters and convert to lowercase\n",
    "    text = re.sub(r'[^a-zA-Z0-9\\s]', '', text.lower())\n",
    "    # Tokenize text\n",
    "    tokens = word_tokenize(text)\n",
    "    # Remove stopwords\n",
    "    stop_words = set(stopwords.words('english'))\n",
    "    tokens = [word for word in tokens if word not in stop_words]\n",
    "    # Lemmatize tokens\n",
    "    lemmatizer = WordNetLemmatizer()\n",
    "    tokens = [lemmatizer.lemmatize(word) for word in tokens]\n",
    "    # Join tokens back into a string\n",
    "    preprocessed_text = ' '.join(tokens)\n",
    "    return preprocessed_text\n",
    "\n",
    "# Apply preprocessing to reviewText column\n",
    "df['preprocessed_text'] = df['reviewText'].apply(preprocess_text)\n"
   ]
  },
  {
   "cell_type": "code",
   "execution_count": 55,
   "metadata": {},
   "outputs": [
    {
     "data": {
      "text/html": [
       "<div>\n",
       "<style scoped>\n",
       "    .dataframe tbody tr th:only-of-type {\n",
       "        vertical-align: middle;\n",
       "    }\n",
       "\n",
       "    .dataframe tbody tr th {\n",
       "        vertical-align: top;\n",
       "    }\n",
       "\n",
       "    .dataframe thead th {\n",
       "        text-align: right;\n",
       "    }\n",
       "</style>\n",
       "<table border=\"1\" class=\"dataframe\">\n",
       "  <thead>\n",
       "    <tr style=\"text-align: right;\">\n",
       "      <th></th>\n",
       "      <th>overall</th>\n",
       "      <th>verified</th>\n",
       "      <th>reviewTime</th>\n",
       "      <th>reviewerID</th>\n",
       "      <th>asin</th>\n",
       "      <th>style</th>\n",
       "      <th>reviewerName</th>\n",
       "      <th>reviewText</th>\n",
       "      <th>summary</th>\n",
       "      <th>unixReviewTime</th>\n",
       "      <th>vote</th>\n",
       "      <th>image</th>\n",
       "      <th>preprocessed_text</th>\n",
       "    </tr>\n",
       "  </thead>\n",
       "  <tbody>\n",
       "    <tr>\n",
       "      <th>3171</th>\n",
       "      <td>5</td>\n",
       "      <td>True</td>\n",
       "      <td>07 2, 2018</td>\n",
       "      <td>A2077NII5H62R2</td>\n",
       "      <td>B005AGO4LU</td>\n",
       "      <td>{'Size:': ' 8.5 B(M) US', 'Color:': ' Green Gl...</td>\n",
       "      <td>Amazon Customer</td>\n",
       "      <td>Perfect fit!</td>\n",
       "      <td>Five Stars</td>\n",
       "      <td>1530489600</td>\n",
       "      <td>NaN</td>\n",
       "      <td>NaN</td>\n",
       "      <td>perfect fit</td>\n",
       "    </tr>\n",
       "    <tr>\n",
       "      <th>3172</th>\n",
       "      <td>5</td>\n",
       "      <td>True</td>\n",
       "      <td>06 28, 2018</td>\n",
       "      <td>A2IBS6PIPAGAB5</td>\n",
       "      <td>B005AGO4LU</td>\n",
       "      <td>{'Size:': ' 5 B(M) US', 'Color:': ' Wolf Grey/...</td>\n",
       "      <td>J. Avila</td>\n",
       "      <td>My favorite cross trainers!</td>\n",
       "      <td>Comfortable</td>\n",
       "      <td>1530144000</td>\n",
       "      <td>NaN</td>\n",
       "      <td>NaN</td>\n",
       "      <td>favorite cross trainer</td>\n",
       "    </tr>\n",
       "    <tr>\n",
       "      <th>3173</th>\n",
       "      <td>5</td>\n",
       "      <td>True</td>\n",
       "      <td>06 25, 2018</td>\n",
       "      <td>A1GTC5EVSJNCQ8</td>\n",
       "      <td>B005AGO4LU</td>\n",
       "      <td>{'Size:': ' 8 B(M) US', 'Color:': ' Blue Tint/...</td>\n",
       "      <td>Amazon Customer</td>\n",
       "      <td>Love them fit perfect</td>\n",
       "      <td>Five Stars</td>\n",
       "      <td>1529884800</td>\n",
       "      <td>NaN</td>\n",
       "      <td>NaN</td>\n",
       "      <td>love fit perfect</td>\n",
       "    </tr>\n",
       "    <tr>\n",
       "      <th>3174</th>\n",
       "      <td>5</td>\n",
       "      <td>True</td>\n",
       "      <td>06 20, 2018</td>\n",
       "      <td>A311XHHLM12MUT</td>\n",
       "      <td>B005AGO4LU</td>\n",
       "      <td>{'Size:': ' 9 B(M) US', 'Color:': ' Blue Tint/...</td>\n",
       "      <td>Peter</td>\n",
       "      <td>Favorite Nike shoe ever! The flex sole is exce...</td>\n",
       "      <td>Love them!</td>\n",
       "      <td>1529452800</td>\n",
       "      <td>NaN</td>\n",
       "      <td>NaN</td>\n",
       "      <td>favorite nike shoe ever flex sole excellent so...</td>\n",
       "    </tr>\n",
       "    <tr>\n",
       "      <th>3175</th>\n",
       "      <td>5</td>\n",
       "      <td>True</td>\n",
       "      <td>06 16, 2018</td>\n",
       "      <td>A135SGOQMVWABQ</td>\n",
       "      <td>B005AGO4LU</td>\n",
       "      <td>{'Size:': ' 9 B(M) US', 'Color:': ' Black/Whit...</td>\n",
       "      <td>Susan</td>\n",
       "      <td>I wear these everyday to work, the gym, etc.</td>\n",
       "      <td>Five Stars</td>\n",
       "      <td>1529107200</td>\n",
       "      <td>NaN</td>\n",
       "      <td>NaN</td>\n",
       "      <td>wear everyday work gym etc</td>\n",
       "    </tr>\n",
       "  </tbody>\n",
       "</table>\n",
       "</div>"
      ],
      "text/plain": [
       "      overall  verified   reviewTime      reviewerID        asin  \\\n",
       "3171        5      True   07 2, 2018  A2077NII5H62R2  B005AGO4LU   \n",
       "3172        5      True  06 28, 2018  A2IBS6PIPAGAB5  B005AGO4LU   \n",
       "3173        5      True  06 25, 2018  A1GTC5EVSJNCQ8  B005AGO4LU   \n",
       "3174        5      True  06 20, 2018  A311XHHLM12MUT  B005AGO4LU   \n",
       "3175        5      True  06 16, 2018  A135SGOQMVWABQ  B005AGO4LU   \n",
       "\n",
       "                                                  style     reviewerName  \\\n",
       "3171  {'Size:': ' 8.5 B(M) US', 'Color:': ' Green Gl...  Amazon Customer   \n",
       "3172  {'Size:': ' 5 B(M) US', 'Color:': ' Wolf Grey/...         J. Avila   \n",
       "3173  {'Size:': ' 8 B(M) US', 'Color:': ' Blue Tint/...  Amazon Customer   \n",
       "3174  {'Size:': ' 9 B(M) US', 'Color:': ' Blue Tint/...            Peter   \n",
       "3175  {'Size:': ' 9 B(M) US', 'Color:': ' Black/Whit...            Susan   \n",
       "\n",
       "                                             reviewText      summary  \\\n",
       "3171                                       Perfect fit!   Five Stars   \n",
       "3172                        My favorite cross trainers!  Comfortable   \n",
       "3173                              Love them fit perfect   Five Stars   \n",
       "3174  Favorite Nike shoe ever! The flex sole is exce...   Love them!   \n",
       "3175       I wear these everyday to work, the gym, etc.   Five Stars   \n",
       "\n",
       "      unixReviewTime  vote image  \\\n",
       "3171      1530489600   NaN   NaN   \n",
       "3172      1530144000   NaN   NaN   \n",
       "3173      1529884800   NaN   NaN   \n",
       "3174      1529452800   NaN   NaN   \n",
       "3175      1529107200   NaN   NaN   \n",
       "\n",
       "                                      preprocessed_text  \n",
       "3171                                        perfect fit  \n",
       "3172                             favorite cross trainer  \n",
       "3173                                   love fit perfect  \n",
       "3174  favorite nike shoe ever flex sole excellent so...  \n",
       "3175                         wear everyday work gym etc  "
      ]
     },
     "execution_count": 55,
     "metadata": {},
     "output_type": "execute_result"
    }
   ],
   "source": [
    "df.tail()"
   ]
  },
  {
   "cell_type": "code",
   "execution_count": 56,
   "metadata": {},
   "outputs": [],
   "source": [
    "from sklearn.feature_extraction.text import TfidfVectorizer\n",
    "\n",
    "# Initialize TF-IDF Vectorizer\n",
    "tfidf_vectorizer = TfidfVectorizer(max_features=1000)\n",
    "\n",
    "# Fit and transform the preprocessed text\n",
    "X = tfidf_vectorizer.fit_transform(df['preprocessed_text'])\n",
    "\n",
    "# Target variable\n",
    "y = df['overall']\n"
   ]
  },
  {
   "cell_type": "code",
   "execution_count": 57,
   "metadata": {},
   "outputs": [
    {
     "name": "stdout",
     "output_type": "stream",
     "text": [
      "\n",
      "Word indexes:\n",
      "{'great': 389, 'product': 612, 'price': 608, 'small': 750, 'use': 916, 'stay': 799, 'vibrant': 928, 'many': 520, 'really': 637, 'like': 499, 'pink': 585, 'one': 556, 'nervous': 540, 'plantar': 589, 'day': 227, 'pain': 570, 'returned': 667, 'full': 365, 'recommended': 644, 'pair': 571, 'best': 97, 'thing': 854, 'ever': 287, 'unfortunately': 911, 'ordered': 562, 'second': 698, 'foot': 352, 'hard': 406, 'insert': 452, 'outside': 565, 'edge': 266, 'walking': 934, 'shoe': 718, 'used': 917, 'year': 993, 'provide': 616, 'support': 821, 'seems': 703, 'cushioning': 215, 'husband': 438, 'better': 98, 'tried': 894, 'well': 955, 'brand': 118, 'high': 415, 'active': 38, 'wear': 947, 'bother': 111, 'replace': 655, 'every': 288, 'month': 531, 'especially': 282, 'average': 80, 'andor': 64, 'run': 688, 'excellent': 296, 'insole': 454, 'good': 383, 'little': 503, 'cushion': 212, 'arch': 72, 'maybe': 522, 'love': 514, 'style': 813, 'help': 414, 'heel': 412, 'feel': 323, 'much': 533, 'would': 987, 'never': 541, 'athletic': 77, 'big': 99, 'comfortable': 173, 'though': 857, 'size': 736, 'bigger': 100, 'based': 89, 'think': 855, 'wasnt': 945, 'ended': 273, 'buying': 135, 'two': 904, 'problem': 611, 'fit': 336, 'even': 285, 'washing': 944, 'hot': 427, '30': 11, 'inch': 447, '34': 12, 'waist': 931, 'got': 384, 'medium': 523, 'thick': 851, 'quality': 628, 'value': 922, 'typical': 905, 'weight': 951, 'right': 671, 'made': 518, 'pretty': 606, 'string': 811, 'first': 335, 'time': 867, 'trying': 899, 'dont': 254, 'need': 537, 'nice': 544, 'said': 692, 'pant': 572, 'expected': 304, 'probably': 610, 'around': 74, 'next': 543, 'make': 519, 'purchase': 620, 'perfectly': 579, 'bought': 114, 'dark': 225, 'grey': 391, 'didnt': 240, 'fade': 313, 'bad': 84, 'give': 375, 'star': 794, 'pocket': 596, 'described': 235, 'comfy': 175, 'return': 666, 'theyd': 848, 'awesome': 82, 'might': 526, 'buy': 134, 'another': 67, 'disappointed': 247, 'way': 946, 'large': 487, 'looked': 509, 'wearing': 949, 'home': 424, 'soft': 759, 'switched': 834, 'fruit': 364, 'loom': 511, 'somewhat': 768, 'huge': 433, 'bottom': 113, 'go': 380, 'anything': 70, 'jean': 467, 'ok': 554, 'house': 429, 'em': 269, 'heavy': 411, 'perfect': 578, 'color': 168, 'review': 669, 'hold': 423, 'im': 442, 'easily': 264, 'wish': 971, 'true': 896, 'red': 645, 'definitely': 231, 'orange': 560, 'quite': 630, 'fashion': 319, 'work': 979, 'sure': 826, 'correct': 197, 'received': 640, 'lot': 513, 'although': 58, 'fine': 331, 'since': 733, 'reading': 633, 'glass': 378, 'instead': 457, 'find': 329, 'light': 497, 'shoehad': 719, 'add': 41, 'tennis': 842, 'black': 103, 'dress': 258, 'comfort': 172, 'impressed': 445, 'flimsy': 347, 'nike': 546, 'ive': 464, 'purchased': 621, 'look': 508, 'super': 820, 'flexible': 345, 'training': 887, 'definetly': 230, 'recommend': 643, 'excelente': 295, 'poorly': 600, 'constructed': 192, 'expect': 303, 'last': 489, 'summer': 819, 'order': 561, 'downshifter': 255, 'series': 708, 'spent': 775, 'id': 439, 'say': 696, 'doesnt': 252, 'hurt': 436, 'always': 59, 'get': 371, 'half': 401, 'reason': 638, 'area': 73, 'wide': 963, 'put': 626, 'walked': 933, 'hour': 428, 'feeling': 324, 'stylish': 814, 'back': 83, 'trip': 895, 'white': 961, 'yoga': 997, 'expecting': 305, 'compared': 178, 'hope': 425, 'life': 495, 'box': 115, '10': 0, 'money': 530, 'liked': 500, 'least': 493, 'easy': 265, 'clean': 158, 'stain': 790, 'come': 171, 'workout': 982, 'week': 950, 'gym': 399, 'treadmill': 891, 'stairmaster': 792, 'cardio': 143, 'class': 157, 'lifting': 496, 'lightweight': 498, 'versatile': 925, 'pleased': 592, 'online': 557, 'without': 973, 'turned': 901, 'choice': 154, 'breathable': 121, 'sturdy': 812, 'builtin': 129, 'discomfort': 249, 'far': 318, 'sole': 761, 'thickness': 852, 'consider': 187, 'build': 127, 'thin': 853, 'overly': 567, 'youre': 998, 'running': 690, 'take': 836, 'consideration': 188, 'everyone': 290, 'different': 241, 'preference': 603, 'sufficient': 817, 'highly': 417, 'material': 521, 'real': 635, 'fall': 314, 'expensive': 306, 'gracias': 387, 'wore': 978, 'bit': 102, 'picture': 584, 'held': 413, 'wondered': 975, 'paper': 573, 'filling': 327, 'inside': 453, 'looking': 510, 'overall': 566, 'people': 576, 'bunion': 132, 'issue': 461, 'previous': 607, 'surgery': 828, 'daughter': 226, 'cute': 219, 'wearable': 948, 'straight': 807, 'comfortably': 174, 'glove': 379, 'bulky': 131, 'hated': 408, 'lol': 505, 'shot': 726, 'start': 795, '12': 2, 'shift': 714, 'also': 57, 'absolute': 27, 'favorite': 322, 'closet': 165, 'knee': 480, 'bothering': 112, 'hiit': 418, 'researching': 660, 'ellipical': 267, 'tredmill': 892, 'etc': 283, 'came': 140, 'within': 972, 'frame': 361, 'given': 376, 'needed': 538, 'job': 468, 'requires': 658, 'standing': 793, 'abd': 24, 'throughout': 860, 'cheap': 151, 'loved': 515, 'consistent': 190, 'photo': 582, 'description': 236, 'accurate': 32, 'try': 898, 'wanting': 941, 'satisfied': 694, 'today': 871, 'normally': 548, 'airport': 51, 'phoenix': 581, 'arrived': 75, 'left': 494, 'shoesole': 721, 'started': 796, 'squeaking': 787, 'wont': 977, 'stop': 805, 'want': 939, 'refund': 647, 'instruction': 458, 'returning': 668, 'uncomfortable': 909, 'sol': 760, 'squeak': 786, 'breathe': 122, 'exactly': 294, 'chic': 153, 'gift': 373, 'confortable': 186, 'decent': 228, 'regular': 649, 'activity': 39, 'sprinting': 784, 'smaller': 751, 'usual': 919, 'customer': 217, 'service': 709, 'sketcher': 738, 'walk': 932, 'fan': 316, 'number': 551, 'tread': 890, 'slippery': 748, 'grip': 392, 'solid': 764, 'basic': 90, 'cross': 208, 'therapist': 847, 'fast': 320, 'enough': 277, 'recently': 641, 'consolidated': 191, 'offer': 553, 'cushioncomfort': 213, 'however': 430, 'kind': 479, 'durable': 262, 'option': 559, 'seem': 702, 'ideal': 440, '25000': 9, 'step': 800, 'walt': 938, 'world': 983, 'wife': 966, 'extremely': 311, 'equivocado': 281, 'en': 271, 'glad': 377, 'worked': 980, 'night': 545, 'body': 108, 'new': 542, 'slipper': 747, 'amazon': 62, 'sneaker': 754, 'stained': 791, 'yellow': 994, 'spot': 780, 'iteration': 463, 'earlier': 263, 'finally': 328, 'several': 712, 'wouldnt': 988, 'going': 381, 'hadnt': 400, 'realized': 636, 'cool': 196, 'wellmade': 956, 'long': 506, 'worn': 984, 'hiking': 420, 'dirt': 245, 'something': 766, 'town': 880, 'mine': 528, 'higher': 416, 'pleasantly': 590, 'surprised': 829, 'soletread': 763, 'circuit': 155, 'couldnt': 200, 'tell': 840, 'ran': 631, 'slightly': 744, '15years': 4, 'ago': 49, '15': 3, 'larger': 488, 'hurachesrunning': 435, 'worried': 985, 'actually': 40, 'toe': 872, 'room': 676, 'boot': 109, 'amount': 63, 'le': 492, 'jammed': 466, 'jumping': 473, 'odd': 552, 'yellowish': 995, 'side': 731, 'damage': 222, 'lining': 502, 'happy': 405, 'clorox': 162, 'wipe': 969, 'cleaned': 159, 'discolor': 248, 'balance': 85, 'still': 803, 'cant': 142, 'beat': 91, 'absolutly': 29, 'beautiful': 92, 'noticed': 550, 'foam': 350, 'tends': 841, 'compress': 183, 'ill': 441, 'lace': 485, 'tightly': 866, 'theyre': 850, 'nearly': 536, 'cutting': 220, 'circulation': 156, '20': 7, 'sliding': 743, 'sled': 740, 'push': 624, 'longer': 507, 'usually': 920, 'could': 199, '85': 20, 'width': 965, 'shown': 728, 'gray': 388, 'bright': 123, 'isnt': 460, 'grommet': 394, 'referring': 646, 'closer': 164, 'talking': 838, 'top': 877, 'thought': 858, 'faulty': 321, 'keeping': 475, 'themeven': 845, 'see': 701, 'coming': 176, 'mile': 527, 'away': 81, 'snugsmall': 756, 'flex': 343, 'wire': 970, 'tight': 863, 'wiggle': 967, 'footwear': 354, 'otherwise': 564, 'kept': 476, 'mid': 525, 'section': 699, 'using': 918, 'tough': 879, 'owned': 568, 'line': 501, 'happened': 402, 'narrow': 535, 'stretch': 809, 'breaking': 119, 'tad': 835, 'wall': 937, 'swell': 833, 'concrete': 184, 'impact': 444, 'absorption': 30, 'trail': 885, 'dance': 223, 'jam': 465, 'zumba': 999, 'wanted': 940, 'tingled': 868, 'went': 957, 'cramped': 205, 'bed': 93, 'lunge': 517, 'ball': 86, 'someone': 765, 'hike': 419, 'blister': 104, 'pinky': 587, 'similar': 732, 'difficult': 243, 'pressure': 605, 'sensitive': 706, 'portion': 601, 'calf': 138, 'hunt': 434, 'trainer': 886, 'jogrun': 470, 'wonderful': 976, 'woman': 974, 'almost': 55, 'slip': 745, 'loose': 512, 'heal': 410, 'tighten': 864, 'hurting': 437, 'daily': 221, 'cleaning': 160, 'business': 133, 'absolutely': 28, 'roughly': 680, '3x': 14, 'per': 577, '3rd': 13, 'exact': 293, 'bill': 101, 'specifically': 774, 'court': 203, 'sport': 777, 'reluctant': 652, 'whether': 960, 'contact': 193, 'ground': 395, 'supportive': 823, 'abit': 25, 'rough': 679, 'anyones': 69, 'wrong': 991, 'compliment': 182, 'orthotics': 563, 'found': 360, 'accommodate': 31, 'shoesthat': 722, 'green': 390, 'show': 727, 'began': 94, 'falling': 315, 'smooth': 753, 'floor': 348, 'assume': 76, 'defective': 229, 'themfound': 846, 'ryka': 691, 'solely': 762, 'everyday': 289, 'working': 981, 'opinion': 558, 'care': 144, 'ugly': 907, 'rounded': 682, 'weird': 954, 'cost': 198, 'broken': 125, 'theyll': 849, 'attractive': 78, 'seller': 705, 'delivered': 232, 'session': 710, 'neon': 539, 'bw': 136, 'bulk': 130, 'low': 516, 'cut': 218, 'pushing': 625, 'traction': 884, 'group': 396, 'fight': 326, 'quick': 629, 'movement': 532, 'footwork': 355, 'thats': 844, 'knock': 482, 'fact': 312, 'former': 358, 'runner': 689, 'spread': 781, 'roomy': 677, 'remedy': 653, 'swap': 831, 'indoor': 450, 'exercise': 300, 'okay': 555, 'sticky': 802, 'rubber': 686, 'slipped': 746, 'cable': 137, 'resistance': 661, 'band': 87, 'uncarpeted': 908, 'emphasize': 270, 'part': 574, 'routine': 684, 'lasted': 490, 'six': 735, 'gave': 367, 'three': 859, 'cam': 139, 'reordered': 654, 'skin': 739, 'europe': 284, 'sock': 757, 'tranasaction': 889, 'impression': 446, 'cushiony': 216, 'firmer': 334, 'refunded': 648, 'instantly': 456, 'upon': 914, 'credit': 206, 'nothing': 549, 'crossfit': 209, 'ugh': 906, 'camp': 141, 'picky': 583, 'lack': 486, 'sore': 771, 'fix': 340, 'regularly': 650, 'exoected': 302, 'row': 685, 'five': 339, 'allow': 53, 'breath': 120, 'blue': 106, 'airy': 52, 'weightlifting': 953, 'trial': 893, 'ventilation': 923, 'padding': 569, 'minimalist': 529, '40': 15, 'plus': 594, 'certainly': 148, 'done': 253, '100': 1, 'kswiss': 484, 'client': 161, 'shoelace': 720, 'fitting': 338, 'thinner': 856, 'shipping': 716, 'happier': 404, 'joined': 471, 'adjustment': 44, 'provides': 618, 'grit': 393, 'enjoy': 275, 'distance': 251, '75': 19, '9m': 23, 'ankle': 65, 'extra': 310, 'space': 773, 'tip': 870, 'front': 363, 'plenty': 593, 'girlfriend': 374, 'incredibly': 448, 'serf': 707, 'intended': 459, 'purpose': 623, 'gotten': 386, 'thy': 861, 'footbed': 353, 'developed': 239, 'felt': 325, 'provided': 617, 'aerobics': 47, 'lateral': 491, 'stock': 804, 'afford': 48, 'discontinues': 250, 'hate': 407, 'happens': 403, 'amazingvery': 61, 'available': 79, 'hoping': 426, 'able': 26, 'rather': 632, 'amazing': 60, 'suggest': 818, 'purchasing': 622, 'sleek': 741, 'design': 237, 'complaint': 180, 'fly': 349, 'sometimes': 767, 'appropriate': 71, 'ware': 942, 'shocked': 717, 'multiple': 534, 'upper': 915, 'kickboxing': 478, 'hug': 432, 'kick': 477, 'stability': 789, 'snug': 755, 'getting': 372, 'blood': 105, 'research': 659, 'allows': 54, 'tie': 862, 'careful': 145, 'tingling': 869, 'particular': 575, 'crimson': 207, 'hue': 431, 'state': 797, 'clothes': 166, 'keep': 474, 'completely': 181, 'condition': 185, 'sale': 693, 'reccomend': 639, 'squeaky': 788, 'know': 483, 'generation': 370, 'casual': 147, 'fitoutdoor': 337, 'vigorous': 930, 'aerobic': 46, 'considering': 189, 'shrinkage': 730, 'result': 664, 'normal': 547, 'together': 873, 'gone': 382, 'annoying': 66, 'surface': 827, 'ripped': 673, 'unless': 912, 'strength': 808, 'sooooo': 770, 'profile': 613, 'sizing': 737, 'report': 656, 'depends': 233, '65': 18, 'wrap': 990, 'restrict': 663, 'excited': 299, 'image': 443, 'tr': 881, 'touch': 878, 'check': 152, 'whole': 962, 'supreme': 825, 'tr3': 882, 'wow': 989, 'forget': 357, 'retail': 665, 'store': 806, 'couple': 201, 'prior': 609, 'knew': 481, 'survived': 830, 'ache': 34, 'dropped': 260, 'boxdefinitely': 116, 'sleeve': 742, 'round': 681, 'wider': 964, 'teenage': 839, 'aching': 37, 'end': 272, 'fantastic': 317, 'colour': 170, 'pnk': 595, 'pwmtllc': 627, 'slvrcl': 749, 'grywhite': 397, 'dsw': 261, '50': 16, 'flat': 341, 'btw': 126, 'taking': 837, 'place': 588, 'everywhere': 292, 'else': 268, 'adjust': 43, 'secure': 700, 'mesh': 524, 'already': 56, 'ready': 634, 'supportcushion': 822, 'everything': 291, 'suffer': 816, 'sciatica': 697, 'difficulty': 244, 'finding': 330, 'proper': 615, 'course': 202, 'took': 876, 'reviewer': 670, 'advice': 45, 'socklike': 758, 'tongue': 875, 'square': 785, 'werent': 958, 'dream': 257, 'crosstraininghitt': 211, 'video': 929, 'requirement': 657, 'thanks': 843, 'seven': 711, 'dancing': 224, 'worse': 986, 'item': 462, 'window': 968, 'closed': 163, 'initially': 451, 'ached': 35, 'subsided': 815, 'entirely': 279, 'bootcamps': 110, 'yeah': 992, 'truly': 897, 'crosstrainers': 210, 'local': 504, 'endurance': 274, 'exercised': 301, 'possibly': 602, 'geared': 368, 'environment': 280, 'short': 725, 'walkingaround': 935, 'situation': 734, 'exception': 298, 'goto': 385, 'differently': 242, 'insoletheyre': 455, 'twinge': 903, 'continue': 194, 'stick': 801, 'hiphop': 422, 'flexibility': 344, 'dirty': 246, 'verge': 924, 'pointing': 599, 'shopping': 724, 'adding': 42, 'sporty': 779, 'dressy': 259, 'smallerim': 752, 'whatever': 959, 'trainingrunningetc': 888, 'flezable': 346, 'pronationsupnation': 614, 'personal': 580, 'stride': 810, '24': 8, 'sprint': 782, 'twice': 902, 'stats': 798, 'road': 674, '56': 17, '169lbs': 5, 'built': 128, 'sprinter': 783, 'puma': 619, 'cloud': 167, 'shape': 713, 'rubbing': 687, 'joint': 472, 'pinkie': 586, 'saw': 695, 'complains': 179, 'warehouse': 943, 'pregnant': 604, 'changed': 150, 'ton': 874, 'fog': 351, 'fornot': 359, 'relay': 651, 'barely': 88, 'sweaty': 832, 'experience': 307, 'flattering': 342, 'sporting': 778, 'turn': 900, '95': 21, 'bluff': 107, 'rock': 675, 'achilles': 36, 'except': 297, 'drag': 256, 'carpet': 146, 'jogging': 469, 'forest': 356, 'gump': 398, 'weightless': 952, 'vacation': 921, 'besides': 96, 'compare': 177, 'individual': 449, 'cushioned': 214, 'yet': 996, 'suppose': 824, 'cradled': 204, 'anymore': 68, 'vibram': 927, 'finger': 333, 'sorry': 772, 'vffs': 926, 'shin': 715, 'splint': 776, 'walkingrunning': 936, 'track': 883, 'continues': 195, 'please': 591, 'change': 149, 'boxier': 117, 'pointier': 598, 'generally': 369, 'shooting': 723, 'rounder': 683, 'broader': 124, 'accurately': 33, 'depict': 234, 'detail': 238, 'recess': 642, 'aide': 50, 'havent': 409, 'shoxs': 729, 'entire': 278, 'hip': 421, 'point': 597, 'soon': 769, 'rest': 662, 'evening': 286, 'understand': 910, 'extended': 309, 'rotate': 678, 'believe': 95, 'update': 913, 'experienced': 308, 'enjoyed': 276, 'tighter': 865, '995': 22, '2nd': 10, 'fun': 366, 'finedid': 332, 'colored': 169, 'seen': 704, 'ring': 672, 'free': 362, '1st': 6}\n",
      "\n",
      "tf-idf value:\n",
      "  (0, 608)\t0.6486833482205495\n",
      "  (0, 612)\t0.6640995736458901\n",
      "  (0, 389)\t0.3717279516322714\n",
      "  (1, 608)\t0.6486833482205495\n",
      "  (1, 612)\t0.6640995736458901\n",
      "  (1, 389)\t0.3717279516322714\n",
      "  (2, 608)\t0.6486833482205495\n",
      "  (2, 612)\t0.6640995736458901\n",
      "  (2, 389)\t0.3717279516322714\n",
      "  (3, 608)\t0.6486833482205495\n",
      "  (3, 612)\t0.6640995736458901\n",
      "  (3, 389)\t0.3717279516322714\n",
      "  (4, 608)\t0.6486833482205495\n",
      "  (4, 612)\t0.6640995736458901\n",
      "  (4, 389)\t0.3717279516322714\n",
      "  (5, 916)\t0.6309548819150453\n",
      "  (5, 750)\t0.7758195260417019\n",
      "  (6, 520)\t0.44969610263985416\n",
      "  (6, 928)\t0.6315747838817369\n",
      "  (6, 799)\t0.6315747838817369\n",
      "  (7, 520)\t0.44969610263985416\n",
      "  (7, 928)\t0.6315747838817369\n",
      "  (7, 799)\t0.6315747838817369\n",
      "  (8, 540)\t0.6415951131297358\n",
      "  (8, 556)\t0.38089291570584055\n",
      "  :\t:\n",
      "  (3174, 761)\t0.1676741706461972\n",
      "  (3174, 324)\t0.22531629359927483\n",
      "  (3174, 819)\t0.20933249214701877\n",
      "  (3174, 643)\t0.15112186416701517\n",
      "  (3174, 464)\t0.26690493285541367\n",
      "  (3174, 546)\t0.11461040816366111\n",
      "  (3174, 168)\t0.1254605657015788\n",
      "  (3174, 380)\t0.16904306585599474\n",
      "  (3174, 391)\t0.23561964563513085\n",
      "  (3174, 579)\t0.15169036919394113\n",
      "  (3174, 427)\t0.19627277544403723\n",
      "  (3174, 514)\t0.08240914326163845\n",
      "  (3174, 296)\t0.18908574150408555\n",
      "  (3174, 718)\t0.06588782220110316\n",
      "  (3174, 352)\t0.20927854205136345\n",
      "  (3174, 287)\t0.16345576360443442\n",
      "  (3174, 570)\t0.17919170894850836\n",
      "  (3174, 227)\t0.13726424452479605\n",
      "  (3174, 499)\t0.11272757844445709\n",
      "  (3174, 520)\t0.16998562195592518\n",
      "  (3175, 289)\t0.5256406240325024\n",
      "  (3175, 283)\t0.5299489722984927\n",
      "  (3175, 399)\t0.41442710827310236\n",
      "  (3175, 979)\t0.39762428266052946\n",
      "  (3175, 947)\t0.33615639647876133\n",
      "\n",
      "tf-idf values in matrix form:\n",
      "[[0. 0. 0. ... 0. 0. 0.]\n",
      " [0. 0. 0. ... 0. 0. 0.]\n",
      " [0. 0. 0. ... 0. 0. 0.]\n",
      " ...\n",
      " [0. 0. 0. ... 0. 0. 0.]\n",
      " [0. 0. 0. ... 0. 0. 0.]\n",
      " [0. 0. 0. ... 0. 0. 0.]]\n"
     ]
    }
   ],
   "source": [
    "# get indexing\n",
    "print('\\nWord indexes:')\n",
    "print(tfidf_vectorizer.vocabulary_)\n",
    "\n",
    "# display tf-idf values\n",
    "print('\\ntf-idf value:')\n",
    "print(X)\n",
    "\n",
    "# in matrix form\n",
    "print('\\ntf-idf values in matrix form:')\n",
    "print(X.toarray())\n"
   ]
  },
  {
   "cell_type": "code",
   "execution_count": 58,
   "metadata": {},
   "outputs": [
    {
     "data": {
      "text/plain": [
       "0       5\n",
       "1       5\n",
       "2       5\n",
       "3       5\n",
       "4       5\n",
       "       ..\n",
       "3171    5\n",
       "3172    5\n",
       "3173    5\n",
       "3174    5\n",
       "3175    5\n",
       "Name: overall, Length: 3176, dtype: int64"
      ]
     },
     "execution_count": 58,
     "metadata": {},
     "output_type": "execute_result"
    }
   ],
   "source": [
    "y"
   ]
  },
  {
   "cell_type": "code",
   "execution_count": 64,
   "metadata": {},
   "outputs": [
    {
     "data": {
      "text/html": [
       "<style>#sk-container-id-3 {color: black;}#sk-container-id-3 pre{padding: 0;}#sk-container-id-3 div.sk-toggleable {background-color: white;}#sk-container-id-3 label.sk-toggleable__label {cursor: pointer;display: block;width: 100%;margin-bottom: 0;padding: 0.3em;box-sizing: border-box;text-align: center;}#sk-container-id-3 label.sk-toggleable__label-arrow:before {content: \"▸\";float: left;margin-right: 0.25em;color: #696969;}#sk-container-id-3 label.sk-toggleable__label-arrow:hover:before {color: black;}#sk-container-id-3 div.sk-estimator:hover label.sk-toggleable__label-arrow:before {color: black;}#sk-container-id-3 div.sk-toggleable__content {max-height: 0;max-width: 0;overflow: hidden;text-align: left;background-color: #f0f8ff;}#sk-container-id-3 div.sk-toggleable__content pre {margin: 0.2em;color: black;border-radius: 0.25em;background-color: #f0f8ff;}#sk-container-id-3 input.sk-toggleable__control:checked~div.sk-toggleable__content {max-height: 200px;max-width: 100%;overflow: auto;}#sk-container-id-3 input.sk-toggleable__control:checked~label.sk-toggleable__label-arrow:before {content: \"▾\";}#sk-container-id-3 div.sk-estimator input.sk-toggleable__control:checked~label.sk-toggleable__label {background-color: #d4ebff;}#sk-container-id-3 div.sk-label input.sk-toggleable__control:checked~label.sk-toggleable__label {background-color: #d4ebff;}#sk-container-id-3 input.sk-hidden--visually {border: 0;clip: rect(1px 1px 1px 1px);clip: rect(1px, 1px, 1px, 1px);height: 1px;margin: -1px;overflow: hidden;padding: 0;position: absolute;width: 1px;}#sk-container-id-3 div.sk-estimator {font-family: monospace;background-color: #f0f8ff;border: 1px dotted black;border-radius: 0.25em;box-sizing: border-box;margin-bottom: 0.5em;}#sk-container-id-3 div.sk-estimator:hover {background-color: #d4ebff;}#sk-container-id-3 div.sk-parallel-item::after {content: \"\";width: 100%;border-bottom: 1px solid gray;flex-grow: 1;}#sk-container-id-3 div.sk-label:hover label.sk-toggleable__label {background-color: #d4ebff;}#sk-container-id-3 div.sk-serial::before {content: \"\";position: absolute;border-left: 1px solid gray;box-sizing: border-box;top: 0;bottom: 0;left: 50%;z-index: 0;}#sk-container-id-3 div.sk-serial {display: flex;flex-direction: column;align-items: center;background-color: white;padding-right: 0.2em;padding-left: 0.2em;position: relative;}#sk-container-id-3 div.sk-item {position: relative;z-index: 1;}#sk-container-id-3 div.sk-parallel {display: flex;align-items: stretch;justify-content: center;background-color: white;position: relative;}#sk-container-id-3 div.sk-item::before, #sk-container-id-3 div.sk-parallel-item::before {content: \"\";position: absolute;border-left: 1px solid gray;box-sizing: border-box;top: 0;bottom: 0;left: 50%;z-index: -1;}#sk-container-id-3 div.sk-parallel-item {display: flex;flex-direction: column;z-index: 1;position: relative;background-color: white;}#sk-container-id-3 div.sk-parallel-item:first-child::after {align-self: flex-end;width: 50%;}#sk-container-id-3 div.sk-parallel-item:last-child::after {align-self: flex-start;width: 50%;}#sk-container-id-3 div.sk-parallel-item:only-child::after {width: 0;}#sk-container-id-3 div.sk-dashed-wrapped {border: 1px dashed gray;margin: 0 0.4em 0.5em 0.4em;box-sizing: border-box;padding-bottom: 0.4em;background-color: white;}#sk-container-id-3 div.sk-label label {font-family: monospace;font-weight: bold;display: inline-block;line-height: 1.2em;}#sk-container-id-3 div.sk-label-container {text-align: center;}#sk-container-id-3 div.sk-container {/* jupyter's `normalize.less` sets `[hidden] { display: none; }` but bootstrap.min.css set `[hidden] { display: none !important; }` so we also need the `!important` here to be able to override the default hidden behavior on the sphinx rendered scikit-learn.org. See: https://github.com/scikit-learn/scikit-learn/issues/21755 */display: inline-block !important;position: relative;}#sk-container-id-3 div.sk-text-repr-fallback {display: none;}</style><div id=\"sk-container-id-3\" class=\"sk-top-container\"><div class=\"sk-text-repr-fallback\"><pre>LogisticRegression(max_iter=1000)</pre><b>In a Jupyter environment, please rerun this cell to show the HTML representation or trust the notebook. <br />On GitHub, the HTML representation is unable to render, please try loading this page with nbviewer.org.</b></div><div class=\"sk-container\" hidden><div class=\"sk-item\"><div class=\"sk-estimator sk-toggleable\"><input class=\"sk-toggleable__control sk-hidden--visually\" id=\"sk-estimator-id-3\" type=\"checkbox\" checked><label for=\"sk-estimator-id-3\" class=\"sk-toggleable__label sk-toggleable__label-arrow\">LogisticRegression</label><div class=\"sk-toggleable__content\"><pre>LogisticRegression(max_iter=1000)</pre></div></div></div></div></div>"
      ],
      "text/plain": [
       "LogisticRegression(max_iter=1000)"
      ]
     },
     "execution_count": 64,
     "metadata": {},
     "output_type": "execute_result"
    }
   ],
   "source": [
    "from sklearn.model_selection import train_test_split\n",
    "from sklearn.linear_model import LogisticRegression\n",
    "from sklearn.metrics import classification_report\n",
    "from sklearn.ensemble import RandomForestClassifier, GradientBoostingClassifier\n",
    "from sklearn.svm import SVC\n",
    "\n",
    "# Split data into training and testing sets\n",
    "X_train, X_test, y_train, y_test = train_test_split(X, y, test_size=0.2, random_state=42)\n",
    "\n",
    "# Initialize and train Logistic Regression model\n",
    "log_model = LogisticRegression(max_iter=1000)\n",
    "log_model.fit(X_train, y_train)\n"
   ]
  },
  {
   "cell_type": "code",
   "execution_count": 65,
   "metadata": {},
   "outputs": [
    {
     "name": "stdout",
     "output_type": "stream",
     "text": [
      "              precision    recall  f1-score   support\n",
      "\n",
      "           1       1.00      0.83      0.91        24\n",
      "           2       1.00      0.94      0.97        17\n",
      "           3       0.91      0.90      0.90        67\n",
      "           4       0.99      0.79      0.88       103\n",
      "           5       0.94      1.00      0.97       425\n",
      "\n",
      "    accuracy                           0.94       636\n",
      "   macro avg       0.97      0.89      0.92       636\n",
      "weighted avg       0.95      0.94      0.94       636\n",
      "\n"
     ]
    }
   ],
   "source": [
    "# Predict on test set\n",
    "y_pred = log_model.predict(X_test)\n",
    "\n",
    "# Evaluate model performance\n",
    "print(classification_report(y_test, y_pred))\n"
   ]
  },
  {
   "cell_type": "code",
   "execution_count": 67,
   "metadata": {},
   "outputs": [
    {
     "name": "stdout",
     "output_type": "stream",
     "text": [
      "              precision    recall  f1-score   support\n",
      "\n",
      "           1       1.00      0.96      0.98        24\n",
      "           2       1.00      1.00      1.00        17\n",
      "           3       1.00      0.93      0.96        67\n",
      "           4       0.98      0.96      0.97       103\n",
      "           5       0.98      1.00      0.99       425\n",
      "\n",
      "    accuracy                           0.98       636\n",
      "   macro avg       0.99      0.97      0.98       636\n",
      "weighted avg       0.98      0.98      0.98       636\n",
      "\n"
     ]
    }
   ],
   "source": [
    "svc_model = SVC(max_iter=1000)\n",
    "svc_model.fit(X_train, y_train)\n",
    "\n",
    "# Predict on test set\n",
    "y_pred = svc_model.predict(X_test)\n",
    "\n",
    "# Evaluate model performance\n",
    "print(classification_report(y_test, y_pred))\n"
   ]
  },
  {
   "cell_type": "code",
   "execution_count": 150,
   "metadata": {},
   "outputs": [
    {
     "name": "stdout",
     "output_type": "stream",
     "text": [
      "              precision    recall  f1-score   support\n",
      "\n",
      "           1       1.00      0.96      0.98        24\n",
      "           2       1.00      1.00      1.00        17\n",
      "           3       1.00      0.93      0.96        67\n",
      "           4       0.97      0.99      0.98       103\n",
      "           5       0.99      1.00      0.99       425\n",
      "\n",
      "    accuracy                           0.99       636\n",
      "   macro avg       0.99      0.97      0.98       636\n",
      "weighted avg       0.99      0.99      0.99       636\n",
      "\n"
     ]
    }
   ],
   "source": [
    "random_model = RandomForestClassifier()\n",
    "random_model.fit(X_train, y_train)\n",
    "\n",
    "# Predict on test set\n",
    "y_pred = random_model.predict(X_test)\n",
    "\n",
    "# Evaluate model performance\n",
    "print(classification_report(y_test, y_pred))\n"
   ]
  },
  {
   "cell_type": "code",
   "execution_count": 153,
   "metadata": {},
   "outputs": [
    {
     "name": "stdout",
     "output_type": "stream",
     "text": [
      "Predicted Sentiment: Neutral\n"
     ]
    }
   ],
   "source": [
    "# Preprocess the test string\n",
    "preprocessed_test_str = preprocess_text(\"ok product\")\n",
    "\n",
    "# Vectorize the preprocessed test string using the trained TF-IDF vectorizer\n",
    "test_vector = tfidf_vectorizer.transform([preprocessed_test_str])\n",
    "\n",
    "# Make prediction\n",
    "prediction = random_model.predict(test_vector)\n",
    "\n",
    "# Convert prediction back to sentiment label\n",
    "sentiment_label = {1: 'Very Negative', 2: 'Negative', 3: 'Neutral', 4: 'Positive', 5: 'Very Positive'}\n",
    "predicted_sentiment = sentiment_label[prediction[0]]\n",
    "\n",
    "# Print prediction\n",
    "print(\"Predicted Sentiment:\", predicted_sentiment)"
   ]
  },
  {
   "cell_type": "code",
   "execution_count": 154,
   "metadata": {},
   "outputs": [
    {
     "name": "stdout",
     "output_type": "stream",
     "text": [
      "Predicted Sentiment: Very Positive\n"
     ]
    }
   ],
   "source": [
    "# Preprocess the test string\n",
    "preprocessed_test_str = preprocess_text(\"amazing fit \")\n",
    "\n",
    "# Vectorize the preprocessed test string using the trained TF-IDF vectorizer\n",
    "test_vector = tfidf_vectorizer.transform([preprocessed_test_str])\n",
    "\n",
    "# Make prediction\n",
    "prediction = random_model.predict(test_vector)\n",
    "\n",
    "# Convert prediction back to sentiment label\n",
    "sentiment_label = {1: 'Very Negative', 2: 'Negative', 3: 'Neutral', 4: 'Positive', 5: 'Very Positive'}\n",
    "predicted_sentiment = sentiment_label[prediction[0]]\n",
    "\n",
    "# Print prediction\n",
    "print(\"Predicted Sentiment:\", predicted_sentiment)"
   ]
  },
  {
   "cell_type": "code",
   "execution_count": 155,
   "metadata": {},
   "outputs": [
    {
     "name": "stdout",
     "output_type": "stream",
     "text": [
      "Predicted Sentiment: Very Negative\n"
     ]
    }
   ],
   "source": [
    "# Preprocess the test string\n",
    "preprocessed_test_str = preprocess_text(\"Was terribly disappointed, the pants were way too large in the legs, my husband looked like he was wearing blown up clown pants.\")\n",
    "\n",
    "# Vectorize the preprocessed test string using the trained TF-IDF vectorizer\n",
    "test_vector = tfidf_vectorizer.transform([preprocessed_test_str])\n",
    "\n",
    "# Make prediction\n",
    "prediction = random_model.predict(test_vector)\n",
    "\n",
    "# Convert prediction back to sentiment label\n",
    "sentiment_label = {1: 'Very Negative', 2: 'Negative', 3: 'Neutral', 4: 'Positive', 5: 'Very Positive'}\n",
    "predicted_sentiment = sentiment_label[prediction[0]]\n",
    "\n",
    "# Print prediction\n",
    "print(\"Predicted Sentiment:\", predicted_sentiment)"
   ]
  },
  {
   "cell_type": "code",
   "execution_count": null,
   "metadata": {},
   "outputs": [],
   "source": []
  }
 ],
 "metadata": {
  "kernelspec": {
   "display_name": "base",
   "language": "python",
   "name": "python3"
  },
  "language_info": {
   "codemirror_mode": {
    "name": "ipython",
    "version": 3
   },
   "file_extension": ".py",
   "mimetype": "text/x-python",
   "name": "python",
   "nbconvert_exporter": "python",
   "pygments_lexer": "ipython3",
   "version": "3.11.4"
  }
 },
 "nbformat": 4,
 "nbformat_minor": 2
}
